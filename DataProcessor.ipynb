{
 "cells": [
  {
   "cell_type": "code",
   "execution_count": 1,
   "metadata": {},
   "outputs": [],
   "source": [
    "import pandas as pd\n",
    "import json\n",
    "import numpy as np\n",
    "import os\n",
    "\n",
    "pd.set_option('display.max_columns', 500)"
   ]
  },
  {
   "cell_type": "code",
   "execution_count": 30,
   "metadata": {},
   "outputs": [],
   "source": [
    "files = os.listdir('data/matches/11')\n",
    "arr = []\n",
    "for f in files:\n",
    "    with open('data/matches/11/' + f) as file:\n",
    "        matches = json.load(file)\n",
    "        matches_df = pd.DataFrame(matches)\n",
    "        arr.append(matches_df)\n",
    "        \n",
    "matches_df = pd.concat(arr)"
   ]
  },
  {
   "cell_type": "code",
   "execution_count": 20,
   "metadata": {},
   "outputs": [],
   "source": [
    "matches_df['match_date'] = pd.to_datetime(matches_df['match_date'])"
   ]
  },
  {
   "cell_type": "code",
   "execution_count": 21,
   "metadata": {},
   "outputs": [],
   "source": [
    "matches_df.sort_values(by='match_date', ascending=True, inplace=True)\n",
    "match_ids = matches_df['match_id'].values.tolist()"
   ]
  },
  {
   "cell_type": "code",
   "execution_count": 22,
   "metadata": {},
   "outputs": [],
   "source": [
    "files = os.listdir('data/events')\n",
    "arr = []\n",
    "for f in files:\n",
    "    if int(f.split('.')[0]) in match_ids:\n",
    "        with open('data/events/' + f) as file:\n",
    "            events = json.load(file)\n",
    "            events = pd.DataFrame(events)\n",
    "            arr.append(events)\n",
    "            \n",
    "events = pd.concat(arr)"
   ]
  },
  {
   "cell_type": "code",
   "execution_count": 23,
   "metadata": {},
   "outputs": [
    {
     "data": {
      "text/plain": [
       "Index(['id', 'index', 'period', 'timestamp', 'minute', 'second', 'type',\n",
       "       'possession', 'possession_team', 'play_pattern', 'team', 'duration',\n",
       "       'tactics', 'related_events', 'player', 'position', 'location', 'pass',\n",
       "       'carry', 'ball_receipt', 'under_pressure', 'duel', 'out',\n",
       "       'ball_recovery', 'clearance', 'counterpress', 'shot', 'goalkeeper',\n",
       "       'off_camera', 'dribble', 'foul_committed', 'foul_won', 'bad_behaviour',\n",
       "       'interception', 'block', 'substitution', '50_50', 'miscontrol',\n",
       "       'injury_stoppage'],\n",
       "      dtype='object')"
      ]
     },
     "execution_count": 23,
     "metadata": {},
     "output_type": "execute_result"
    }
   ],
   "source": [
    "events.columns"
   ]
  },
  {
   "cell_type": "code",
   "execution_count": 24,
   "metadata": {},
   "outputs": [
    {
     "name": "stdout",
     "output_type": "stream",
     "text": [
      "<class 'pandas.core.frame.DataFrame'>\n",
      "Int64Index: 129059 entries, 0 to 4047\n",
      "Data columns (total 39 columns):\n",
      " #   Column           Non-Null Count   Dtype  \n",
      "---  ------           --------------   -----  \n",
      " 0   id               129059 non-null  object \n",
      " 1   index            129059 non-null  int64  \n",
      " 2   period           129059 non-null  int64  \n",
      " 3   timestamp        129059 non-null  object \n",
      " 4   minute           129059 non-null  int64  \n",
      " 5   second           129059 non-null  int64  \n",
      " 6   type             129059 non-null  object \n",
      " 7   possession       129059 non-null  int64  \n",
      " 8   possession_team  129059 non-null  object \n",
      " 9   play_pattern     129059 non-null  object \n",
      " 10  team             129059 non-null  object \n",
      " 11  duration         93339 non-null   float64\n",
      " 12  tactics          128 non-null     object \n",
      " 13  related_events   125163 non-null  object \n",
      " 14  player           128635 non-null  object \n",
      " 15  position         128635 non-null  object \n",
      " 16  location         128294 non-null  object \n",
      " 17  pass             37157 non-null   object \n",
      " 18  carry            30480 non-null   object \n",
      " 19  ball_receipt     4102 non-null    object \n",
      " 20  under_pressure   24337 non-null   object \n",
      " 21  duel             1681 non-null    object \n",
      " 22  out              783 non-null     object \n",
      " 23  ball_recovery    219 non-null     object \n",
      " 24  clearance        1138 non-null    object \n",
      " 25  counterpress     3372 non-null    object \n",
      " 26  shot             752 non-null     object \n",
      " 27  goalkeeper       876 non-null     object \n",
      " 28  off_camera       1299 non-null    object \n",
      " 29  dribble          1150 non-null    object \n",
      " 30  foul_committed   334 non-null     object \n",
      " 31  foul_won         353 non-null     object \n",
      " 32  bad_behaviour    36 non-null      object \n",
      " 33  interception     585 non-null     object \n",
      " 34  block            80 non-null      object \n",
      " 35  substitution     225 non-null     object \n",
      " 36  50_50            62 non-null      object \n",
      " 37  miscontrol       29 non-null      object \n",
      " 38  injury_stoppage  8 non-null       object \n",
      "dtypes: float64(1), int64(5), object(33)\n",
      "memory usage: 39.4+ MB\n"
     ]
    }
   ],
   "source": [
    "events.info()"
   ]
  },
  {
   "cell_type": "code",
   "execution_count": 25,
   "metadata": {},
   "outputs": [],
   "source": [
    "events.fillna('', inplace=True)"
   ]
  },
  {
   "cell_type": "code",
   "execution_count": 26,
   "metadata": {},
   "outputs": [],
   "source": [
    "events['type_id'] = events['type'].apply(lambda x: x['id'] if x != np.nan else np.nan)\n",
    "events['type_name'] = events['type'].apply(lambda x: x['name'] if x != np.nan else np.nan)\n",
    "events['possession_team_id'] = events['possession_team'].apply(lambda x: x['id'] if x != np.nan else np.nan)\n",
    "events['possession_team_name'] = events['possession_team'].apply(lambda x: x['name'] if x != np.nan else np.nan)\n",
    "events['play_pattern_id'] = events['play_pattern'].apply(lambda x: x['id'] if x != np.nan else np.nan)\n",
    "events['play_pattern_name'] = events['play_pattern'].apply(lambda x: x['name'] if x != np.nan else np.nan)\n",
    "events['team_id'] = events['team'].apply(lambda x: x['id'] if x != np.nan else np.nan)\n",
    "events['team_name'] = events['team'].apply(lambda x: x['name'] if x != np.nan else np.nan)\n",
    "events['formation'] = events['tactics'].apply(lambda x: x['formation'] if x != '' else '')\n",
    "for i in range(0,11):\n",
    "    events['player_' + str(i) + '_id'] = events['tactics'].apply(lambda x: x['lineup'][i]['player']['id'] if x != '' else '')\n",
    "    events['player_' + str(i) + '_name'] = events['tactics'].apply(lambda x: x['lineup'][i]['player']['name'] if x != '' else '')\n",
    "    events['player_' + str(i) + '_pos_id'] = events['tactics'].apply(lambda x: x['lineup'][i]['position']['id'] if x != '' else '')\n",
    "    events['player_' + str(i) + '_pos_name'] = events['tactics'].apply(lambda x: x['lineup'][i]['position']['name'] if x != '' else '')\n",
    "    events['player_' + str(i) + '_jersey_num'] = events['tactics'].apply(lambda x: x['lineup'][i]['jersey_number'] if x != '' else '')\n",
    "    \n",
    "events['related_events'] = events['related_events'].apply(lambda x: x[0] if x != '' else '')\n",
    "events['event_player_id'] = events['player'].apply(lambda x: x['id'] if x != '' else '')\n",
    "events['event_player_name'] = events['player'].apply(lambda x: x['name'] if x != '' else '')\n",
    "events['event_player_pos_id'] = events['position'].apply(lambda x: x['id'] if x != '' else '')\n",
    "events['event_player_pos_name'] = events['position'].apply(lambda x: x['name'] if x != '' else '')\n",
    "events['event_player_loc_x'] = events['location'].apply(lambda x: x[0] if x != '' else '')\n",
    "events['event_player_loc_y'] = events['location'].apply(lambda x: x[1] if x != '' else '')\n",
    "events['event_pass_recipient_id'] = events['pass'].apply(lambda x: x['recipient']['id'] if 'recipient' in x and x != '' else '')\n",
    "events['event_pass_recipient_name'] = events['pass'].apply(lambda x: x['recipient']['name'] if 'recipient' in x and x != '' else '')\n",
    "events['event_pass_length'] = events['pass'].apply(lambda x: x['length'] if x != '' else '')\n",
    "events['event_pass_angle'] = events['pass'].apply(lambda x: x['angle'] if x != '' else '')\n",
    "events['event_pass_height_id'] = events['pass'].apply(lambda x: x['height']['id'] if x != '' else '')\n",
    "events['event_pass_height_name'] = events['pass'].apply(lambda x: x['height']['name'] if x != '' else '')\n",
    "events['event_pass_end_loc_x'] = events['pass'].apply(lambda x: x['end_location'][0] if x != '' else '')\n",
    "events['event_pass_end_loc_y'] = events['pass'].apply(lambda x: x['end_location'][1] if x != '' else '')\n",
    "events['event_pass_type_id'] = events['pass'].apply(lambda x: x['type']['id'] if 'type' in x and x != '' else '')\n",
    "events['event_pass_type_name'] = events['pass'].apply(lambda x: x['type']['name'] if 'type' in x and x != '' else '')\n",
    "events['event_pass_switch'] = events['pass'].apply(lambda x: x['switch'] if 'switch' in x and x != '' else False)\n",
    "events['event_pass_outcome_id'] = events['pass'].apply(lambda x: x['outcome']['id'] if 'outcome' in x and x != '' else '')\n",
    "events['event_pass_outcome_name'] = events['pass'].apply(lambda x: x['outcome']['name'] if 'outcome' in x and x != '' else '')\n",
    "events['event_pass_outcome_name'] = events['pass'].apply(lambda x: x['outcome']['name'] if 'outcome' in x and x != '' else '')\n",
    "events['event_pass_assisted_shot_id'] = events['pass'].apply(lambda x: x['assisted_shot_id'] if 'assisted_shot_id' in x and x != '' else '')\n",
    "events['event_pass_shot_assist'] = events['pass'].apply(lambda x: x['shot_assist'] if 'shot_assist' in x and x != '' else False)\n",
    "events['event_pass_shot_through_ball'] = events['pass'].apply(lambda x: x['through_ball'] if 'through_ball' in x and x != '' else False)\n",
    "events['event_pass_shot_technique_id'] = events['pass'].apply(lambda x: x['technique']['id'] if 'technique' in x and x != '' else False)\n",
    "events['event_pass_shot_technique_name'] = events['pass'].apply(lambda x: x['technique']['name'] if 'technique' in x and x != '' else False)\n",
    "events['event_pass_body_part_id'] = events['pass'].apply(lambda x: x['body_part']['id'] if 'body_part' in x and x != '' else '')\n",
    "events['event_pass_body_part_name'] = events['pass'].apply(lambda x: x['body_part']['name'] if 'body_part' in x and x != '' else '')\n",
    "events['event_end_location_x'] = events['carry'].apply(lambda x: x['end_location'][0] if x != '' else '')\n",
    "events['event_end_location_y'] = events['carry'].apply(lambda x: x['end_location'][1] if x != '' else '')\n",
    "events['event_outcome_id'] = events['ball_receipt'].apply(lambda x: x['outcome']['id'] if x != '' else '')\n",
    "events['event_outcome_name'] = events['ball_receipt'].apply(lambda x: x['outcome']['name'] if x != '' else '')\n",
    "events['event_ball_recovery'] = events['ball_recovery'].apply(lambda x: x['recovery_failure'] if 'recovery_failure' in x and x != '' else '')\n",
    "events['event_shot_xg'] = events['shot'].apply(lambda x: x['statsbomb_xg'] if 'statsbomb_xg' in x and  x != '' else '')\n",
    "events['event_shot_end_loc'] = events['shot'].apply(lambda x: x['end_location'] if 'end_location' in x and  x != '' else '')\n",
    "events['event_shot_key_pass_id'] = events['shot'].apply(lambda x: x['key_pass_id'] if 'key_pass_id' in x and  x != '' else '')\n",
    "events['event_shot_body_part_id'] = events['shot'].apply(lambda x: x['body_part']['id'] if 'body_part' in x and  x != '' else '')\n",
    "events['event_shot_body_part_name'] = events['shot'].apply(lambda x: x['body_part']['name'] if 'body_part' in x and  x != '' else '')\n",
    "events['event_shot_type_id'] = events['shot'].apply(lambda x: x['type']['id'] if 'type' in x and  x != '' else '')\n",
    "events['event_shot_type_name'] = events['shot'].apply(lambda x: x['type']['name'] if 'type' in x and  x != '' else '')\n",
    "events['event_shot_outcome_id'] = events['shot'].apply(lambda x: x['outcome']['id'] if 'outcome' in x and  x != '' else '')\n",
    "events['event_shot_outcome_name'] = events['shot'].apply(lambda x: x['outcome']['name'] if 'outcome' in x and  x != '' else '') \n",
    "events['event_shot_first_time'] = events['shot'].apply(lambda x: x['first_time'] if 'first_time' in x and  x != '' else '')\n",
    "events['event_shot_technique_id'] = events['shot'].apply(lambda x: x['technique']['id'] if 'technique' in x and  x != '' else '')\n",
    "events['event_shot_technique_name'] = events['shot'].apply(lambda x: x['technique']['name'] if 'technique' in x and  x != '' else '')\n",
    "events['event_shot_aerial_won'] = events['shot'].apply(lambda x: x['aerial_won'] if 'aerial_won' in x and  x != '' else '')\n",
    "events['event_shot_freeze_frame'] = events['shot'].apply(lambda x: x['freeze_frame'] if 'freeze_frame' in x and  x != '' else '')\n",
    "events['event_shot_freeze_frame'] = events['shot'].apply(lambda x: x['freeze_frame'] if 'freeze_frame' in x and  x != '' else '')   \n",
    "events['event_gk_end_loc_x'] = events['goalkeeper'].apply(lambda x: x['end_location'][0] if 'end_location' in x and  x != '' else '')   \n",
    "events['event_gk_end_loc_y'] = events['goalkeeper'].apply(lambda x: x['end_location'][1] if 'end_location' in x and  x != '' else '')  \n",
    "events['event_gk_pos_id'] = events['goalkeeper'].apply(lambda x: x['position']['id'] if 'position' in x and  x != '' else '')\n",
    "events['event_gk_pos_name'] = events['goalkeeper'].apply(lambda x: x['position']['name'] if 'position' in x and  x != '' else '')   \n",
    "events['event_gk_type_id'] = events['goalkeeper'].apply(lambda x: x['type']['id'] if 'type' in x and  x != '' else '')\n",
    "events['event_gk_type_name'] = events['goalkeeper'].apply(lambda x: x['type']['name'] if 'type' in x and  x != '' else '')\n",
    "events['event_gk_outcome_id'] = events['goalkeeper'].apply(lambda x: x['outcome']['id'] if 'outcome' in x and  x != '' else '')\n",
    "events['event_gk_outcome_name'] = events['goalkeeper'].apply(lambda x: x['outcome']['name'] if 'outcome' in x and  x != '' else '')\n",
    "events['event_gk_body_part_id'] = events['goalkeeper'].apply(lambda x: x['body_part']['id'] if 'body_part' in x and  x != '' else '')\n",
    "events['event_gk_body_part_name'] = events['goalkeeper'].apply(lambda x: x['body_part']['name'] if 'body_part' in x and  x != '' else '')\n",
    "events['event_gk_technique_id'] = events['goalkeeper'].apply(lambda x: x['technique']['id'] if 'technique' in x and  x != '' else '')\n",
    "events['event_gk_technique_name'] = events['goalkeeper'].apply(lambda x: x['technique']['name'] if 'technique' in x and  x != '' else '')\n",
    "events['event_duel_type_id'] = events['duel'].apply(lambda x: x['type']['id'] if 'type' in x and  x != '' else '')\n",
    "events['event_duel_type_name'] = events['duel'].apply(lambda x: x['type']['name'] if 'type' in x and  x != '' else '')\n",
    "events['event_duel_outcome_id'] = events['duel'].apply(lambda x: x['outcome']['id'] if 'outcome' in x and  x != '' else '')\n",
    "events['event_duel_outcome_name'] = events['duel'].apply(lambda x: x['outcome']['name'] if 'outcome' in x and  x != '' else '')\n",
    "events['event_dribble_overrun'] = events['dribble'].apply(lambda x: x['overrun'] if 'overrun' in x and  x != '' else False)\n",
    "events['event_dribble_outcome_id'] = events['dribble'].apply(lambda x: x['outcome']['id'] if 'outcome' in x and  x != '' else '')\n",
    "events['event_dribble_outcome_name'] = events['dribble'].apply(lambda x: x['outcome']['name'] if 'outcome' in x and  x != '' else '')\n",
    "events['event_foul_commited_card_id'] = events['foul_committed'].apply(lambda x: x['card']['id'] if 'card' in x and  x != '' else '')\n",
    "events['event_foul_commited_card_name'] = events['foul_committed'].apply(lambda x: x['card']['name'] if 'card' in x and  x != '' else '')\n",
    "events['event_foul_advantage_played'] = events['foul_committed'].apply(lambda x: x['advantage'] if 'advantage' in x and  x != '' else '')\n",
    "events['event_foul_type_id'] = events['foul_committed'].apply(lambda x: x['type']['id'] if 'type' in x and  x != '' else '')\n",
    "events['event_foul_type_name'] = events['foul_committed'].apply(lambda x: x['type']['name'] if 'type' in x and  x != '' else '')\n",
    "events['event_foul_interception_id'] = events['interception'].apply(lambda x: x['outcome']['id'] if 'outcome' in x and  x != '' else '')\n",
    "events['event_foul_interception_name'] = events['interception'].apply(lambda x: x['outcome']['name'] if 'outcome' in x and  x != '' else '')\n",
    "events['event_subs_outcome_id'] = events['substitution'].apply(lambda x: x['outcome']['id'] if 'outcome' in x and  x != '' else '')\n",
    "events['event_subs_outcome_name'] = events['substitution'].apply(lambda x: x['outcome']['name'] if 'outcome' in x and  x != '' else '')\n",
    "events['event_subs_replacement_id'] = events['substitution'].apply(lambda x: x['replacement']['id'] if 'replacement' in x and  x != '' else '')\n",
    "events['event_subs_replacement_name'] = events['substitution'].apply(lambda x: x['replacement']['name'] if 'replacement' in x and  x != '' else '')\n",
    "\n"
   ]
  },
  {
   "cell_type": "code",
   "execution_count": 27,
   "metadata": {},
   "outputs": [],
   "source": [
    "events.drop(['type', 'possession_team', 'play_pattern', 'team', 'tactics', 'related_events',\n",
    "             'player', 'position', 'location', 'pass', 'carry', 'ball_receipt', 'ball_receipt',\n",
    "             'ball_recovery', 'shot', 'goalkeeper', 'duel', 'dribble', 'foul_committed',\n",
    "             'interception', 'substitution'], axis=1, inplace=True)"
   ]
  },
  {
   "cell_type": "code",
   "execution_count": 29,
   "metadata": {},
   "outputs": [],
   "source": [
    "events.to_csv(\"La_liga_2019_20_events.csv\", index=False)"
   ]
  },
  {
   "cell_type": "code",
   "execution_count": null,
   "metadata": {},
   "outputs": [],
   "source": []
  }
 ],
 "metadata": {
  "kernelspec": {
   "display_name": "Python 3",
   "language": "python",
   "name": "python3"
  },
  "language_info": {
   "codemirror_mode": {
    "name": "ipython",
    "version": 3
   },
   "file_extension": ".py",
   "mimetype": "text/x-python",
   "name": "python",
   "nbconvert_exporter": "python",
   "pygments_lexer": "ipython3",
   "version": "3.8.2"
  }
 },
 "nbformat": 4,
 "nbformat_minor": 4
}
